{
 "cells": [
  {
   "cell_type": "markdown",
   "metadata": {},
   "source": [
    "This notebook is for exploration of features and predicting the Gibbs energy values."
   ]
  },
  {
   "cell_type": "code",
   "execution_count": 146,
   "metadata": {},
   "outputs": [],
   "source": [
    "import pandas as pd\n",
    "import numpy as np\n",
    "from sklearn.cross_validation import train_test_split\n",
    "from sklearn.tree import DecisionTreeRegressor\n",
    "from sklearn import tree\n",
    "from sklearn import metrics\n",
    "from sklearn.ensemble import GradientBoostingRegressor\n",
    "import matplotlib.pyplot as plt\n",
    "from sklearn.metrics import mean_squared_error\n",
    "from sklearn.utils import shuffle\n",
    "from sklearn.metrics import r2_score\n",
    "import glob\n",
    "import os\n",
    "from sklearn.preprocessing import StandardScaler\n",
    "import seaborn as sns\n",
    "\n",
    "%matplotlib inline"
   ]
  },
  {
   "cell_type": "markdown",
   "metadata": {},
   "source": [
    "Read in the kaggle data into a dataframe, convert spacegroup into a string variable."
   ]
  },
  {
   "cell_type": "code",
   "execution_count": 81,
   "metadata": {},
   "outputs": [],
   "source": [
    "df = pd.read_csv('../example-data/kaggle-data.csv', index_col=['id'])\n",
    "n = len(df.columns)\n",
    "# Convert spacegroup number to a string\n",
    "df['spacegroup'] = df['spacegroup'].apply(str)"
   ]
  },
  {
   "cell_type": "markdown",
   "metadata": {},
   "source": [
    "Scale all the non-string variables."
   ]
  },
  {
   "cell_type": "code",
   "execution_count": 82,
   "metadata": {},
   "outputs": [],
   "source": [
    "# take all column names except spacegroup\n",
    "col_numerics = df.columns.values[1:n]"
   ]
  },
  {
   "cell_type": "code",
   "execution_count": 83,
   "metadata": {},
   "outputs": [],
   "source": [
    "scaled_features = df.copy()\n",
    "features = scaled_features[col_numerics]\n",
    "scaler = StandardScaler().fit(features.values)\n",
    "features = scaler.transform(features.values)"
   ]
  },
  {
   "cell_type": "code",
   "execution_count": 84,
   "metadata": {},
   "outputs": [],
   "source": [
    "scaled_features[col_numerics] = features"
   ]
  },
  {
   "cell_type": "code",
   "execution_count": 85,
   "metadata": {},
   "outputs": [
    {
     "data": {
      "text/html": [
       "<div>\n",
       "<style scoped>\n",
       "    .dataframe tbody tr th:only-of-type {\n",
       "        vertical-align: middle;\n",
       "    }\n",
       "\n",
       "    .dataframe tbody tr th {\n",
       "        vertical-align: top;\n",
       "    }\n",
       "\n",
       "    .dataframe thead th {\n",
       "        text-align: right;\n",
       "    }\n",
       "</style>\n",
       "<table border=\"1\" class=\"dataframe\">\n",
       "  <thead>\n",
       "    <tr style=\"text-align: right;\">\n",
       "      <th></th>\n",
       "      <th>spacegroup</th>\n",
       "      <th>number_of_total_atoms</th>\n",
       "      <th>percent_atom_al</th>\n",
       "      <th>percent_atom_ga</th>\n",
       "      <th>percent_atom_in</th>\n",
       "      <th>lattice_vector_1_ang</th>\n",
       "      <th>lattice_vector_2_ang</th>\n",
       "      <th>lattice_vector_3_ang</th>\n",
       "      <th>lattice_angle_alpha_degree</th>\n",
       "      <th>lattice_angle_beta_degree</th>\n",
       "      <th>lattice_angle_gamma_degree</th>\n",
       "      <th>formation_energy_ev_natom</th>\n",
       "      <th>bandgap_energy_ev</th>\n",
       "    </tr>\n",
       "    <tr>\n",
       "      <th>id</th>\n",
       "      <th></th>\n",
       "      <th></th>\n",
       "      <th></th>\n",
       "      <th></th>\n",
       "      <th></th>\n",
       "      <th></th>\n",
       "      <th></th>\n",
       "      <th></th>\n",
       "      <th></th>\n",
       "      <th></th>\n",
       "      <th></th>\n",
       "      <th></th>\n",
       "      <th></th>\n",
       "    </tr>\n",
       "  </thead>\n",
       "  <tbody>\n",
       "    <tr>\n",
       "      <th>1</th>\n",
       "      <td>33</td>\n",
       "      <td>0.810885</td>\n",
       "      <td>0.902265</td>\n",
       "      <td>0.284159</td>\n",
       "      <td>-1.162707</td>\n",
       "      <td>-0.013767</td>\n",
       "      <td>0.774800</td>\n",
       "      <td>-0.626795</td>\n",
       "      <td>-0.180793</td>\n",
       "      <td>-0.452319</td>\n",
       "      <td>-0.185047</td>\n",
       "      <td>-1.149271</td>\n",
       "      <td>1.352520</td>\n",
       "    </tr>\n",
       "    <tr>\n",
       "      <th>2</th>\n",
       "      <td>194</td>\n",
       "      <td>0.810885</td>\n",
       "      <td>0.902265</td>\n",
       "      <td>0.284159</td>\n",
       "      <td>-1.162707</td>\n",
       "      <td>-0.681399</td>\n",
       "      <td>-0.477888</td>\n",
       "      <td>2.024991</td>\n",
       "      <td>-0.168794</td>\n",
       "      <td>-0.453130</td>\n",
       "      <td>0.974936</td>\n",
       "      <td>0.589810</td>\n",
       "      <td>0.838233</td>\n",
       "    </tr>\n",
       "    <tr>\n",
       "      <th>3</th>\n",
       "      <td>227</td>\n",
       "      <td>-0.959526</td>\n",
       "      <td>1.608450</td>\n",
       "      <td>-0.518259</td>\n",
       "      <td>-1.162707</td>\n",
       "      <td>-0.049431</td>\n",
       "      <td>-0.755305</td>\n",
       "      <td>0.251341</td>\n",
       "      <td>0.543833</td>\n",
       "      <td>-0.240849</td>\n",
       "      <td>-2.484970</td>\n",
       "      <td>-0.052977</td>\n",
       "      <td>0.662201</td>\n",
       "    </tr>\n",
       "    <tr>\n",
       "      <th>4</th>\n",
       "      <td>167</td>\n",
       "      <td>-1.402128</td>\n",
       "      <td>1.373055</td>\n",
       "      <td>-1.320676</td>\n",
       "      <td>-0.212653</td>\n",
       "      <td>-0.890531</td>\n",
       "      <td>-1.102459</td>\n",
       "      <td>0.172216</td>\n",
       "      <td>-0.191143</td>\n",
       "      <td>-0.450507</td>\n",
       "      <td>0.974905</td>\n",
       "      <td>0.284270</td>\n",
       "      <td>1.263610</td>\n",
       "    </tr>\n",
       "    <tr>\n",
       "      <th>5</th>\n",
       "      <td>194</td>\n",
       "      <td>0.810885</td>\n",
       "      <td>-1.451685</td>\n",
       "      <td>1.354050</td>\n",
       "      <td>0.262374</td>\n",
       "      <td>-0.596817</td>\n",
       "      <td>-0.225287</td>\n",
       "      <td>2.199793</td>\n",
       "      <td>-0.185743</td>\n",
       "      <td>-0.452640</td>\n",
       "      <td>0.974426</td>\n",
       "      <td>-1.317414</td>\n",
       "      <td>-0.693305</td>\n",
       "    </tr>\n",
       "  </tbody>\n",
       "</table>\n",
       "</div>"
      ],
      "text/plain": [
       "   spacegroup  number_of_total_atoms  percent_atom_al  percent_atom_ga  \\\n",
       "id                                                                       \n",
       "1          33               0.810885         0.902265         0.284159   \n",
       "2         194               0.810885         0.902265         0.284159   \n",
       "3         227              -0.959526         1.608450        -0.518259   \n",
       "4         167              -1.402128         1.373055        -1.320676   \n",
       "5         194               0.810885        -1.451685         1.354050   \n",
       "\n",
       "    percent_atom_in  lattice_vector_1_ang  lattice_vector_2_ang  \\\n",
       "id                                                                \n",
       "1         -1.162707             -0.013767              0.774800   \n",
       "2         -1.162707             -0.681399             -0.477888   \n",
       "3         -1.162707             -0.049431             -0.755305   \n",
       "4         -0.212653             -0.890531             -1.102459   \n",
       "5          0.262374             -0.596817             -0.225287   \n",
       "\n",
       "    lattice_vector_3_ang  lattice_angle_alpha_degree  \\\n",
       "id                                                     \n",
       "1              -0.626795                   -0.180793   \n",
       "2               2.024991                   -0.168794   \n",
       "3               0.251341                    0.543833   \n",
       "4               0.172216                   -0.191143   \n",
       "5               2.199793                   -0.185743   \n",
       "\n",
       "    lattice_angle_beta_degree  lattice_angle_gamma_degree  \\\n",
       "id                                                          \n",
       "1                   -0.452319                   -0.185047   \n",
       "2                   -0.453130                    0.974936   \n",
       "3                   -0.240849                   -2.484970   \n",
       "4                   -0.450507                    0.974905   \n",
       "5                   -0.452640                    0.974426   \n",
       "\n",
       "    formation_energy_ev_natom  bandgap_energy_ev  \n",
       "id                                                \n",
       "1                   -1.149271           1.352520  \n",
       "2                    0.589810           0.838233  \n",
       "3                   -0.052977           0.662201  \n",
       "4                    0.284270           1.263610  \n",
       "5                   -1.317414          -0.693305  "
      ]
     },
     "execution_count": 85,
     "metadata": {},
     "output_type": "execute_result"
    }
   ],
   "source": [
    "scaled_features.head()"
   ]
  },
  {
   "cell_type": "code",
   "execution_count": 86,
   "metadata": {},
   "outputs": [],
   "source": [
    "X = scaled_features.values[:, 0:(n-3)]\n",
    "# We only care about the Gibbs Formation Energy\n",
    "Yform = scaled_features.values[:, (n-2)]\n",
    "# Yband = df.values[:, (n-1)]"
   ]
  },
  {
   "cell_type": "code",
   "execution_count": 87,
   "metadata": {},
   "outputs": [
    {
     "data": {
      "text/plain": [
       "array(['33', '194', '227', ..., '206', '33', '206'], dtype=object)"
      ]
     },
     "execution_count": 87,
     "metadata": {},
     "output_type": "execute_result"
    }
   ],
   "source": [
    "X[:, 0]"
   ]
  },
  {
   "cell_type": "code",
   "execution_count": 88,
   "metadata": {},
   "outputs": [],
   "source": [
    "xtrain1, xtest1, ytrain1, ytest1 = train_test_split(\n",
    "    X, Yform, test_size=0.25, random_state=3393\n",
    "    )"
   ]
  },
  {
   "cell_type": "markdown",
   "metadata": {},
   "source": [
    "Feature Engineering via Gradient Boosting Machines"
   ]
  },
  {
   "cell_type": "code",
   "execution_count": 132,
   "metadata": {},
   "outputs": [],
   "source": [
    "params = {'n_estimators': 1000, 'max_depth': 4, 'min_samples_split': 2,\n",
    "          'learning_rate': 0.01, 'loss': 'ls'}"
   ]
  },
  {
   "cell_type": "code",
   "execution_count": 133,
   "metadata": {},
   "outputs": [],
   "source": [
    "clf = GradientBoostingRegressor(**params)"
   ]
  },
  {
   "cell_type": "code",
   "execution_count": 134,
   "metadata": {},
   "outputs": [
    {
     "data": {
      "text/plain": [
       "GradientBoostingRegressor(alpha=0.9, criterion='friedman_mse', init=None,\n",
       "             learning_rate=0.01, loss='ls', max_depth=4, max_features=None,\n",
       "             max_leaf_nodes=None, min_impurity_decrease=0.0,\n",
       "             min_impurity_split=None, min_samples_leaf=1,\n",
       "             min_samples_split=2, min_weight_fraction_leaf=0.0,\n",
       "             n_estimators=1000, presort='auto', random_state=None,\n",
       "             subsample=1.0, verbose=0, warm_start=False)"
      ]
     },
     "execution_count": 134,
     "metadata": {},
     "output_type": "execute_result"
    }
   ],
   "source": [
    "clf.fit(xtrain1, ytrain1)"
   ]
  },
  {
   "cell_type": "code",
   "execution_count": 135,
   "metadata": {},
   "outputs": [],
   "source": [
    "mse = mean_squared_error(ytest1, clf.predict(xtest1))"
   ]
  },
  {
   "cell_type": "code",
   "execution_count": 136,
   "metadata": {},
   "outputs": [
    {
     "name": "stdout",
     "output_type": "stream",
     "text": [
      "MSE: 0.1510\n"
     ]
    }
   ],
   "source": [
    "print('MSE: %.4f' % mse)"
   ]
  },
  {
   "cell_type": "code",
   "execution_count": 137,
   "metadata": {},
   "outputs": [],
   "source": [
    "test_score = np.zeros((params['n_estimators'],), dtype=np.float64)"
   ]
  },
  {
   "cell_type": "code",
   "execution_count": 147,
   "metadata": {},
   "outputs": [],
   "source": [
    "for i, ypred in enumerate(clf.staged_predict(xtest1)):\n",
    "    test_score[i] = clf.loss_(ytest1, ypred)\n",
    "    r2 = r2_score(ytest1, ypred)"
   ]
  },
  {
   "cell_type": "code",
   "execution_count": 142,
   "metadata": {
    "scrolled": true
   },
   "outputs": [
    {
     "data": {
      "text/plain": [
       "Text(0,0.5,'Deviance')"
      ]
     },
     "execution_count": 142,
     "metadata": {},
     "output_type": "execute_result"
    },
    {
     "data": {
      "image/png": "[encoded data removed]",
      "text/plain": [
       "<matplotlib.figure.Figure at 0x222bed26dd8>"
      ]
     },
     "metadata": {},
     "output_type": "display_data"
    }
   ],
   "source": [
    "plt.figure(figsize=(12, 6))\n",
    "plt.subplot(1, 2, 1)\n",
    "plt.title('Deviance')\n",
    "plt.plot(np.arange(params['n_estimators']) + 1, clf.train_score_, 'b-',\n",
    "         label='Training Set Deviance')\n",
    "plt.plot(np.arange(params['n_estimators']) + 1, test_score, 'r-',\n",
    "         label='Test Set Deviance')\n",
    "plt.legend(loc='upper right')\n",
    "plt.xlabel('Boosting Iterations')\n",
    "plt.ylabel('Deviance')"
   ]
  },
  {
   "cell_type": "code",
   "execution_count": null,
   "metadata": {},
   "outputs": [],
   "source": [
    "plt.figure(figsize=(12, 6))\n",
    "plt.subplot(1, 2, 1)\n",
    "plt.title('R2 score')\n",
    "plt.plot(np.arange(params['n_estimators']) + 1, clf.train_score_, 'b-',\n",
    "         label='Training Set Deviance')\n",
    "plt.plot(np.arange(params['n_estimators']) + 1, test_score, 'r-',\n",
    "         label='Test Set Deviance')\n",
    "plt.legend(loc='upper right')\n",
    "plt.xlabel('Boosting Iterations')\n",
    "plt.ylabel('Deviance')"
   ]
  },
  {
   "cell_type": "code",
   "execution_count": 143,
   "metadata": {},
   "outputs": [
    {
     "data": {
      "image/png": "[encoded data removed]",
      "text/plain": [
       "<matplotlib.figure.Figure at 0x222bed3ce80>"
      ]
     },
     "metadata": {},
     "output_type": "display_data"
    }
   ],
   "source": [
    "# Plot feature importance\n",
    "feature_importance = clf.feature_importances_\n",
    "# make importances relative to max importance\n",
    "feature_importance = 100.0 * (feature_importance / feature_importance.max())\n",
    "sorted_idx = np.argsort(feature_importance)\n",
    "pos = np.arange(sorted_idx.shape[0]) + .5\n",
    "plt.subplot(1,2,1)\n",
    "plt.barh(pos, feature_importance[sorted_idx], align='center')\n",
    "plt.yticks(pos, df.columns[sorted_idx])\n",
    "plt.xlabel('Relative Importance')\n",
    "plt.title('Variable Importance')\n",
    "plt.show()"
   ]
  },
  {
   "cell_type": "code",
   "execution_count": 98,
   "metadata": {},
   "outputs": [],
   "source": [
    "# pd.plotting.scatter_matrix(df, figsize=(20,20))"
   ]
  },
  {
   "cell_type": "code",
   "execution_count": null,
   "metadata": {},
   "outputs": [],
   "source": []
  },
  {
   "cell_type": "code",
   "execution_count": null,
   "metadata": {},
   "outputs": [],
   "source": []
  }
 ],
 "metadata": {
  "kernelspec": {
   "display_name": "Python 3",
   "language": "python",
   "name": "python3"
  },
  "language_info": {
   "codemirror_mode": {
    "name": "ipython",
    "version": 3
   },
   "file_extension": ".py",
   "mimetype": "text/x-python",
   "name": "python",
   "nbconvert_exporter": "python",
   "pygments_lexer": "ipython3",
   "version": "3.6.3"
  }
 },
 "nbformat": 4,
 "nbformat_minor": 2
}
